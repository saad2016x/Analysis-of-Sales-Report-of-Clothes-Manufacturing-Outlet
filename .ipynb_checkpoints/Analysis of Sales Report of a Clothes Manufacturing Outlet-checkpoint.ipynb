{
 "cells": [
  {
   "cell_type": "code",
   "execution_count": 2,
   "metadata": {},
   "outputs": [],
   "source": [
    "# import necessary libraries\n",
    "library(caTools)\n",
    "library(readxl) # to read excel\n",
    "library(plyr) \n",
    "library(caTools)\n",
    "\n",
    "library(e1071) \n",
    "library(caret) \n",
    "library(randomForest)"
   ]
  },
  {
   "cell_type": "markdown",
   "metadata": {},
   "source": [
    "### Data Understanding\n"
   ]
  },
  {
   "cell_type": "code",
   "execution_count": 3,
   "metadata": {
    "scrolled": false
   },
   "outputs": [],
   "source": [
    "# load data \n",
    "attribset = read_excel('Attribute DataSet.xlsx')\n",
    "dresssale = read_excel('Dress Sales.xlsx')\n",
    "\n",
    "#remove Dress_ID column\n",
    "attribset_ = attribset[2:14] \n",
    "dresssale_ = dresssale[2:24]\n",
    "\n",
    "\n"
   ]
  },
  {
   "cell_type": "markdown",
   "metadata": {},
   "source": [
    "### Data Preparation"
   ]
  },
  {
   "cell_type": "markdown",
   "metadata": {},
   "source": [
    "#### Attributes dataset"
   ]
  },
  {
   "cell_type": "code",
   "execution_count": 4,
   "metadata": {},
   "outputs": [],
   "source": [
    "# check the unique values for each columns\n",
    "#lapply(attribset[2:14], unique)\n",
    "\n",
    "# values checking\n",
    "# style \n",
    "attribset_$Style[attribset_$Style == 'sexy'] = 'Sexy'\n",
    "\n",
    "# Price\n",
    "attribset_$Price[attribset_$Price == 'low'] = 'Low'\n",
    "attribset_$Price[attribset_$Price == 'high'] = 'High'\n",
    "\n",
    "# Size\n",
    "attribset_$Size[attribset_$Size == 's'] = 'S' \n",
    "attribset_$Size[attribset_$Size == 'small'] = 'S'\n",
    "\n",
    "# Season \n",
    "attribset_$Season[attribset_$Season == 'spring'] = 'Spring'\n",
    "attribset_$Season[attribset_$Season == 'summer'] = 'Summer'\n",
    "attribset_$Season[attribset_$Season == 'Automn'] = 'Autumn'\n",
    "attribset_$Season[attribset_$Season == 'winter'] = 'Winter'\n",
    "\n",
    "# NeckLine \n",
    "attribset_$NeckLine[attribset_$NeckLine == 'sweetheart'] = 'Sweetheart'\n",
    "\n",
    "# SleeveLength\n",
    "attribset_$SleeveLength[attribset_$SleeveLength == 'sleevless'] = 'sleeveless' \n",
    "attribset_$SleeveLength[attribset_$SleeveLength == 'sleeevless'] = 'sleeveless' \n",
    "attribset_$SleeveLength[attribset_$SleeveLength == 'sleveless'] = 'sleeveless' \n",
    "attribset_$SleeveLength[attribset_$SleeveLength == 'threequater'] = 'threequarter' \n",
    "attribset_$SleeveLength[attribset_$SleeveLength == 'thressqatar'] = 'threequarter' \n",
    "attribset_$SleeveLength[attribset_$SleeveLength == 'urndowncollor'] = 'turndowncollar' \n",
    "\n",
    "# FabricType\n",
    "attribset_$FabricType[attribset_$FabricType == 'shiffon'] = 'chiffon'\n",
    "attribset_$FabricType[attribset_$FabricType == 'sattin'] = 'satin'\n",
    "attribset_$FabricType[attribset_$FabricType == 'wollen'] = 'woolen'\n",
    "attribset_$FabricType[attribset_$FabricType == 'flannael'] = 'flannel'\n",
    "attribset_$FabricType[attribset_$FabricType == 'knitting'] = 'knitted'\n",
    "\n",
    "\n",
    "# Decoration\n",
    "attribset_$Decoration[attribset_$Decoration == 'embroidary'] = 'embroidery'\n",
    "attribset_$Decoration[attribset_$Decoration == 'sequined'] = 'sequins'\n",
    "attribset_$Decoration[attribset_$Decoration == 'ruched'] = 'ruche'\n",
    "attribset_$Decoration[attribset_$Decoration == 'none'] = 'null'\n",
    "\n",
    "# Pattern Type\n",
    "attribset_$'Pattern Type'[attribset_$'Pattern Type' == 'none'] = 'null' \n",
    "attribset_$'Pattern Type'[attribset_$'Pattern Type' == 'leapord'] = 'leopard'\n"
   ]
  },
  {
   "cell_type": "code",
   "execution_count": 5,
   "metadata": {},
   "outputs": [],
   "source": [
    "# factoring \n",
    "\n",
    "attribset_$Style = factor(attribset_$Style, \n",
    "                          levels = c('Sexy', 'Casual', 'vintage', 'Brief', 'cute', 'bohemian', 'Novelty', 'Flare', 'party', 'work', 'OL', 'fashion'),\n",
    "                          labels = c(0,1,2,3,4,5,6,7,8,9,10,11))\n",
    "\n",
    "attribset_$Price = factor(attribset_$Price, \n",
    "                          levels = c('Low', 'High', 'Average', 'Medium', 'very-high'),\n",
    "                          labels = c(0,1,2,3,4))\n",
    "\n",
    "attribset_$Size = factor(attribset_$Size, \n",
    "                          levels = c('M', 'L', 'XL', 'free', 'S'),\n",
    "                          labels = c(0,1,2,3,4))\n",
    "\n",
    "attribset_$Season = factor(attribset_$Season, \n",
    "                          levels = c('Summer', 'Autumn', 'Spring', 'Winter'),\n",
    "                          labels = c(0,1,2,3))\n",
    "\n",
    "attribset_$NeckLine = factor(attribset_$NeckLine, \n",
    "                          levels = c('o-neck', 'v-neck', 'boat-neck', 'peterpan-collor', 'ruffled', 'turndowncollor', 'slash-neck', 'mandarin-collor', 'open', 'sqare-collor', 'Sweetheart', 'Scoop', 'halter', 'backless', 'bowneck', 'NULL'),\n",
    "                          labels = c(0,1,2,3,4,5,6,7,8,9,10,11,12,13,14,15))\n",
    "\n",
    "attribset_$SleeveLength = factor(attribset_$SleeveLength, \n",
    "                          levels = c('sleeveless', 'Petal', 'full', 'butterfly', 'short', 'threequarter', 'halfsleeve', 'cap-sleeves', 'turndowncollor', 'capsleeves', 'half', 'turndowncollar', 'NULL'),\n",
    "                          labels = c(0,1,2,3,4,5,6,7,8,9,10,11,12))\n",
    "\n",
    "attribset_$waiseline = factor(attribset_$waiseline, \n",
    "                          levels = c('empire', 'natural', 'null', 'princess', 'dropped'),\n",
    "                          labels = c(0,1,2,3,4))\n",
    "\n",
    "attribset_$Material = factor(attribset_$Material, \n",
    "                          levels = c('null', 'microfiber', 'polyster', 'silk', 'chiffonfabric', 'cotton', 'nylon', 'other', 'milksilk', 'linen', 'rayon', 'lycra', 'mix', 'acrylic', 'spandex', 'lace', 'modal', 'cashmere', 'viscos', 'knitting', 'sill', 'wool', 'model', 'shiffon'),\n",
    "                          labels = c(0,1,2,3,4,5,6,7,8,9,10,11,12,13,14,15,16,17,18,19,20,21,22,23))\n",
    "\n",
    "attribset_$FabricType = factor(attribset_$FabricType, \n",
    "                          levels = c('chiffon', 'null', 'broadcloth', 'jersey', 'other', 'batik', 'satin', 'flannel', 'worsted', 'woolen', 'poplin', 'dobby', 'knitted', 'tulle', 'organza', 'lace', 'Corduroy', 'terry'),\n",
    "                          labels = c(0,1,2,3,4,5,6,7,8,9,10,11,12,13,14,15,16,17))\n",
    "\n",
    "attribset_$Decoration = factor(attribset_$Decoration, \n",
    "                          levels = c('ruffles', 'null', 'embroidery', 'bow', 'lace', 'beading', 'sashes', 'hollowout', 'pockets', 'sequins', 'applique', 'button', 'Tiered', 'rivet', 'feathers', 'flowers', 'pearls', 'pleat', 'crystal', 'ruche', 'draped', 'tassel', 'plain', 'cascading'),\n",
    "                          labels = c(0,1,2,3,4,5,6,7,8,9,10,11,12,13,14,15,16,17,18,19,20,21,22,23))\n",
    "\n",
    "attribset_$`Pattern Type` = factor(attribset_$`Pattern Type`, \n",
    "                          levels = c('animal', 'print', 'dot', 'solid', 'null', 'patchwork', 'striped', 'geometric', 'plaid', 'leopard', 'floral', 'character', 'splice'),\n",
    "                          labels = c(0,1,2,3,4,5,6,7,8,9,10,11,12))\n",
    "\n",
    "attribset_$Recommendation = sapply(attribset_$Recommendation, factor)"
   ]
  },
  {
   "cell_type": "code",
   "execution_count": 6,
   "metadata": {},
   "outputs": [
    {
     "data": {
      "text/html": [
       "<dl class=dl-horizontal>\n",
       "\t<dt>Style</dt>\n",
       "\t\t<dd>0</dd>\n",
       "\t<dt>Price</dt>\n",
       "\t\t<dd>2</dd>\n",
       "\t<dt>Rating</dt>\n",
       "\t\t<dd>0</dd>\n",
       "\t<dt>Size</dt>\n",
       "\t\t<dd>0</dd>\n",
       "\t<dt>Season</dt>\n",
       "\t\t<dd>2</dd>\n",
       "\t<dt>NeckLine</dt>\n",
       "\t\t<dd>1</dd>\n",
       "\t<dt>SleeveLength</dt>\n",
       "\t\t<dd>0</dd>\n",
       "\t<dt>waiseline</dt>\n",
       "\t\t<dd>1</dd>\n",
       "\t<dt>Material</dt>\n",
       "\t\t<dd>1</dd>\n",
       "\t<dt>FabricType</dt>\n",
       "\t\t<dd>1</dd>\n",
       "\t<dt>Decoration</dt>\n",
       "\t\t<dd>1</dd>\n",
       "\t<dt>Pattern Type</dt>\n",
       "\t\t<dd>1</dd>\n",
       "\t<dt>Recommendation</dt>\n",
       "\t\t<dd>0</dd>\n",
       "</dl>\n"
      ],
      "text/latex": [
       "\\begin{description*}\n",
       "\\item[Style] 0\n",
       "\\item[Price] 2\n",
       "\\item[Rating] 0\n",
       "\\item[Size] 0\n",
       "\\item[Season] 2\n",
       "\\item[NeckLine] 1\n",
       "\\item[SleeveLength] 0\n",
       "\\item[waiseline] 1\n",
       "\\item[Material] 1\n",
       "\\item[FabricType] 1\n",
       "\\item[Decoration] 1\n",
       "\\item[Pattern Type] 1\n",
       "\\item[Recommendation] 0\n",
       "\\end{description*}\n"
      ],
      "text/markdown": [
       "Style\n",
       ":   0Price\n",
       ":   2Rating\n",
       ":   0Size\n",
       ":   0Season\n",
       ":   2NeckLine\n",
       ":   1SleeveLength\n",
       ":   0waiseline\n",
       ":   1Material\n",
       ":   1FabricType\n",
       ":   1Decoration\n",
       ":   1Pattern Type\n",
       ":   1Recommendation\n",
       ":   0\n",
       "\n"
      ],
      "text/plain": [
       "         Style          Price         Rating           Size         Season \n",
       "             0              2              0              0              2 \n",
       "      NeckLine   SleeveLength      waiseline       Material     FabricType \n",
       "             1              0              1              1              1 \n",
       "    Decoration   Pattern Type Recommendation \n",
       "             1              1              0 "
      ]
     },
     "metadata": {},
     "output_type": "display_data"
    }
   ],
   "source": [
    "# count of missing values in attribset_ dataset\n",
    "colSums(is.na(attribset_))"
   ]
  },
  {
   "cell_type": "code",
   "execution_count": 7,
   "metadata": {},
   "outputs": [],
   "source": [
    "# Create the function.\n",
    "getmode <- function(v) {\n",
    "   uniqv <- unique(v)\n",
    "   uniqv[which.max(tabulate(match(v, uniqv)))]\n",
    "}\n",
    "\n",
    "# fill missing Value with mode\n",
    "attribset_$Price[is.na(attribset_$Price) ==TRUE] <- getmode(attribset_$Price)\n",
    "attribset_$Season[is.na(attribset_$Season) ==TRUE] <- getmode(attribset_$Season)\n",
    "attribset_$NeckLine[is.na(attribset_$NeckLine) ==TRUE] <- getmode(attribset_$NeckLine)\n",
    "attribset_$waiseline[is.na(attribset_$waiseline) ==TRUE] <- getmode(attribset_$waiseline)\n",
    "attribset_$Material[is.na(attribset_$Material) ==TRUE] <- getmode(attribset_$Material)\n",
    "attribset_$FabricType[is.na(attribset_$FabricType) ==TRUE] <- getmode(attribset_$FabricType)\n",
    "attribset_$Decoration[is.na(attribset_$Decoration) ==TRUE] <- getmode(attribset_$Decoration)\n",
    "attribset_$`Pattern Type`[is.na(attribset_$`Pattern Type`) ==TRUE] <- getmode(attribset_$`Pattern Type`)"
   ]
  },
  {
   "cell_type": "code",
   "execution_count": 8,
   "metadata": {},
   "outputs": [
    {
     "name": "stdout",
     "output_type": "stream",
     "text": [
      "'data.frame':\t500 obs. of  13 variables:\n",
      " $ Style         : Factor w/ 12 levels \"0\",\"1\",\"2\",\"3\",..: 1 2 3 4 5 6 2 7 8 6 ...\n",
      " $ Price         : Factor w/ 5 levels \"0\",\"1\",\"2\",\"3\",..: 1 1 2 3 1 1 3 3 3 1 ...\n",
      " $ Rating        : num  4.6 0 0 4.6 4.5 0 0 0 0 0 ...\n",
      " $ Size          : Factor w/ 5 levels \"0\",\"1\",\"2\",\"3\",..: 1 2 2 2 1 1 3 4 4 4 ...\n",
      " $ Season        : Factor w/ 4 levels \"0\",\"1\",\"2\",\"3\": 1 1 2 3 1 1 1 2 3 1 ...\n",
      " $ NeckLine      : Factor w/ 16 levels \"0\",\"1\",\"2\",\"3\",..: 1 1 1 1 1 2 1 1 2 2 ...\n",
      " $ SleeveLength  : Factor w/ 13 levels \"0\",\"1\",\"2\",\"3\",..: 1 2 3 3 4 1 3 5 5 1 ...\n",
      " $ waiseline     : Factor w/ 5 levels \"0\",\"1\",\"2\",\"3\",..: 1 2 2 2 2 1 3 2 1 2 ...\n",
      " $ Material      : Factor w/ 24 levels \"0\",\"1\",\"2\",\"3\",..: 1 2 3 4 5 1 6 3 6 7 ...\n",
      " $ FabricType    : Factor w/ 18 levels \"0\",\"1\",\"2\",\"3\",..: 1 2 2 1 1 2 2 3 3 1 ...\n",
      " $ Decoration    : Factor w/ 24 levels \"0\",\"1\",\"2\",\"3\",..: 1 1 2 3 4 2 2 5 6 2 ...\n",
      " $ Pattern.Type  : Factor w/ 13 levels \"0\",\"1\",\"2\",\"3\",..: 1 1 2 2 3 2 4 5 4 5 ...\n",
      " $ Recommendation: Factor w/ 2 levels \"1\",\"0\": 1 2 2 1 2 2 2 2 1 1 ...\n"
     ]
    }
   ],
   "source": [
    "attribset_data <- data.frame(attribset_)\n",
    "str(attribset_data)"
   ]
  },
  {
   "cell_type": "markdown",
   "metadata": {},
   "source": [
    "#### Dresses dataset "
   ]
  },
  {
   "cell_type": "code",
   "execution_count": 9,
   "metadata": {},
   "outputs": [],
   "source": [
    "# Update columns name in dresssale_ dataset\n",
    "\n",
    "dresssale_ = rename(dresssale_,c('41314'='2/9/2013'))\n",
    "dresssale_ = rename(dresssale_,c('41373'='4/9/2013'))\n",
    "dresssale_ = rename(dresssale_,c('41434'='6/9/2013'))\n",
    "dresssale_ = rename(dresssale_,c('41495'='8/9/2013'))\n",
    "dresssale_ = rename(dresssale_,c('41556'='10/9/2013'))\n",
    "dresssale_ = rename(dresssale_,c('41617'='12/9/2013'))\n",
    "dresssale_ = rename(dresssale_,c('41315'='2/10/2013'))\n",
    "dresssale_ = rename(dresssale_,c('41374'='4/10/2013'))\n",
    "dresssale_ = rename(dresssale_,c('41435'='6/10/2013'))\n",
    "dresssale_ = rename(dresssale_,c('40400'='8/10/2013'))\n",
    "dresssale_ = rename(dresssale_,c('41557'='10/10/2013'))\n",
    "dresssale_ = rename(dresssale_,c('41618'='12/10/2013'))\n"
   ]
  },
  {
   "cell_type": "code",
   "execution_count": 10,
   "metadata": {},
   "outputs": [
    {
     "name": "stderr",
     "output_type": "stream",
     "text": [
      "Warning message in apply(dresssale_, 2, as.numeric):\n",
      "\"NAs introduced by coercion\"Warning message in apply(dresssale_, 2, as.numeric):\n",
      "\"NAs introduced by coercion\"Warning message in apply(dresssale_, 2, as.numeric):\n",
      "\"NAs introduced by coercion\"Warning message in apply(dresssale_, 2, as.numeric):\n",
      "\"NAs introduced by coercion\"Warning message in apply(dresssale_, 2, as.numeric):\n",
      "\"NAs introduced by coercion\"Warning message in apply(dresssale_, 2, as.numeric):\n",
      "\"NAs introduced by coercion\""
     ]
    }
   ],
   "source": [
    "# Convert all variable types to numeric\n",
    "dresssale_ <- as.data.frame(apply(dresssale_, 2, as.numeric))\n",
    "\n",
    "# mean row \n",
    "dresssale_ = as.matrix(dresssale_)\n",
    "k <- which(is.na(dresssale_), arr.ind=TRUE)\n",
    "dresssale_[k] <- rowMeans(dresssale_, na.rm=TRUE)[k[,1]]\n",
    "dresssale_ = as.data.frame(dresssale_)\n"
   ]
  },
  {
   "cell_type": "code",
   "execution_count": 11,
   "metadata": {},
   "outputs": [
    {
     "data": {
      "text/html": [
       "<table>\n",
       "<thead><tr><th scope=col>29/8/2013</th><th scope=col>31/8/2013</th><th scope=col>2/9/2013</th><th scope=col>4/9/2013</th><th scope=col>6/9/2013</th><th scope=col>8/9/2013</th><th scope=col>10/9/2013</th><th scope=col>12/9/2013</th><th scope=col>14/9/2013</th><th scope=col>16/9/2013</th><th scope=col>...</th><th scope=col>26/9/2013</th><th scope=col>28/9/2013</th><th scope=col>30/9/2013</th><th scope=col>2/10/2013</th><th scope=col>4/10/2013</th><th scope=col>6/10/2013</th><th scope=col>8/10/2013</th><th scope=col>10/10/2013</th><th scope=col>12/10/2013</th><th scope=col>total_sales</th></tr></thead>\n",
       "<tbody>\n",
       "\t<tr><td>2114 </td><td>2274 </td><td>2491 </td><td>2660 </td><td>2727 </td><td>2887 </td><td>2930 </td><td>3119 </td><td>3204 </td><td>3277 </td><td>...  </td><td>3624 </td><td>3706 </td><td>3746 </td><td>3795 </td><td>3832 </td><td>3897 </td><td>3923 </td><td>3985 </td><td>4048 </td><td>75979</td></tr>\n",
       "\t<tr><td> 151 </td><td> 275 </td><td> 570 </td><td> 750 </td><td> 813 </td><td>1066 </td><td>1164 </td><td>1558 </td><td>1756 </td><td>1878 </td><td>...  </td><td>2942 </td><td>3258 </td><td>3354 </td><td>3475 </td><td>3654 </td><td>3911 </td><td>4024 </td><td>4125 </td><td>4277 </td><td>52256</td></tr>\n",
       "\t<tr><td>   6 </td><td>   7 </td><td>   7 </td><td>   7 </td><td>   8 </td><td>   8 </td><td>   9 </td><td>  10 </td><td>  10 </td><td>  10 </td><td>...  </td><td>  11 </td><td>  11 </td><td>  11 </td><td>  11 </td><td>  11 </td><td>  11 </td><td>  11 </td><td>  11 </td><td>  11 </td><td>  223</td></tr>\n",
       "\t<tr><td>1005 </td><td>1128 </td><td>1326 </td><td>1455 </td><td>1507 </td><td>1621 </td><td>1637 </td><td>1723 </td><td>1746 </td><td>1783 </td><td>...  </td><td>1892 </td><td>1914 </td><td>1924 </td><td>1929 </td><td>1941 </td><td>1952 </td><td>1955 </td><td>1959 </td><td>1963 </td><td>39691</td></tr>\n",
       "\t<tr><td> 996 </td><td>1175 </td><td>1304 </td><td>1396 </td><td>1432 </td><td>1559 </td><td>1570 </td><td>1638 </td><td>1655 </td><td>1681 </td><td>...  </td><td>2156 </td><td>2252 </td><td>2312 </td><td>2387 </td><td>2459 </td><td>2544 </td><td>2614 </td><td>2693 </td><td>2736 </td><td>44077</td></tr>\n",
       "\t<tr><td>   4 </td><td>   5 </td><td>  11 </td><td>  13 </td><td>  13 </td><td>  13 </td><td>  16 </td><td>  18 </td><td>  19 </td><td>  20 </td><td>...  </td><td>  25 </td><td>  26 </td><td>  26 </td><td>  26 </td><td>  26 </td><td>  27 </td><td>  27 </td><td>  27 </td><td>  27 </td><td>  457</td></tr>\n",
       "</tbody>\n",
       "</table>\n"
      ],
      "text/latex": [
       "\\begin{tabular}{r|llllllllllllllllllllllll}\n",
       " 29/8/2013 & 31/8/2013 & 2/9/2013 & 4/9/2013 & 6/9/2013 & 8/9/2013 & 10/9/2013 & 12/9/2013 & 14/9/2013 & 16/9/2013 & ... & 26/9/2013 & 28/9/2013 & 30/9/2013 & 2/10/2013 & 4/10/2013 & 6/10/2013 & 8/10/2013 & 10/10/2013 & 12/10/2013 & total\\_sales\\\\\n",
       "\\hline\n",
       "\t 2114  & 2274  & 2491  & 2660  & 2727  & 2887  & 2930  & 3119  & 3204  & 3277  & ...   & 3624  & 3706  & 3746  & 3795  & 3832  & 3897  & 3923  & 3985  & 4048  & 75979\\\\\n",
       "\t  151  &  275  &  570  &  750  &  813  & 1066  & 1164  & 1558  & 1756  & 1878  & ...   & 2942  & 3258  & 3354  & 3475  & 3654  & 3911  & 4024  & 4125  & 4277  & 52256\\\\\n",
       "\t    6  &    7  &    7  &    7  &    8  &    8  &    9  &   10  &   10  &   10  & ...   &   11  &   11  &   11  &   11  &   11  &   11  &   11  &   11  &   11  &   223\\\\\n",
       "\t 1005  & 1128  & 1326  & 1455  & 1507  & 1621  & 1637  & 1723  & 1746  & 1783  & ...   & 1892  & 1914  & 1924  & 1929  & 1941  & 1952  & 1955  & 1959  & 1963  & 39691\\\\\n",
       "\t  996  & 1175  & 1304  & 1396  & 1432  & 1559  & 1570  & 1638  & 1655  & 1681  & ...   & 2156  & 2252  & 2312  & 2387  & 2459  & 2544  & 2614  & 2693  & 2736  & 44077\\\\\n",
       "\t    4  &    5  &   11  &   13  &   13  &   13  &   16  &   18  &   19  &   20  & ...   &   25  &   26  &   26  &   26  &   26  &   27  &   27  &   27  &   27  &   457\\\\\n",
       "\\end{tabular}\n"
      ],
      "text/markdown": [
       "\n",
       "| 29/8/2013 | 31/8/2013 | 2/9/2013 | 4/9/2013 | 6/9/2013 | 8/9/2013 | 10/9/2013 | 12/9/2013 | 14/9/2013 | 16/9/2013 | ... | 26/9/2013 | 28/9/2013 | 30/9/2013 | 2/10/2013 | 4/10/2013 | 6/10/2013 | 8/10/2013 | 10/10/2013 | 12/10/2013 | total_sales |\n",
       "|---|---|---|---|---|---|---|---|---|---|---|---|---|---|---|---|---|---|---|---|---|\n",
       "| 2114  | 2274  | 2491  | 2660  | 2727  | 2887  | 2930  | 3119  | 3204  | 3277  | ...   | 3624  | 3706  | 3746  | 3795  | 3832  | 3897  | 3923  | 3985  | 4048  | 75979 |\n",
       "|  151  |  275  |  570  |  750  |  813  | 1066  | 1164  | 1558  | 1756  | 1878  | ...   | 2942  | 3258  | 3354  | 3475  | 3654  | 3911  | 4024  | 4125  | 4277  | 52256 |\n",
       "|    6  |    7  |    7  |    7  |    8  |    8  |    9  |   10  |   10  |   10  | ...   |   11  |   11  |   11  |   11  |   11  |   11  |   11  |   11  |   11  |   223 |\n",
       "| 1005  | 1128  | 1326  | 1455  | 1507  | 1621  | 1637  | 1723  | 1746  | 1783  | ...   | 1892  | 1914  | 1924  | 1929  | 1941  | 1952  | 1955  | 1959  | 1963  | 39691 |\n",
       "|  996  | 1175  | 1304  | 1396  | 1432  | 1559  | 1570  | 1638  | 1655  | 1681  | ...   | 2156  | 2252  | 2312  | 2387  | 2459  | 2544  | 2614  | 2693  | 2736  | 44077 |\n",
       "|    4  |    5  |   11  |   13  |   13  |   13  |   16  |   18  |   19  |   20  | ...   |   25  |   26  |   26  |   26  |   26  |   27  |   27  |   27  |   27  |   457 |\n",
       "\n"
      ],
      "text/plain": [
       "  29/8/2013 31/8/2013 2/9/2013 4/9/2013 6/9/2013 8/9/2013 10/9/2013 12/9/2013\n",
       "1 2114      2274      2491     2660     2727     2887     2930      3119     \n",
       "2  151       275       570      750      813     1066     1164      1558     \n",
       "3    6         7         7        7        8        8        9        10     \n",
       "4 1005      1128      1326     1455     1507     1621     1637      1723     \n",
       "5  996      1175      1304     1396     1432     1559     1570      1638     \n",
       "6    4         5        11       13       13       13       16        18     \n",
       "  14/9/2013 16/9/2013 ... 26/9/2013 28/9/2013 30/9/2013 2/10/2013 4/10/2013\n",
       "1 3204      3277      ... 3624      3706      3746      3795      3832     \n",
       "2 1756      1878      ... 2942      3258      3354      3475      3654     \n",
       "3   10        10      ...   11        11        11        11        11     \n",
       "4 1746      1783      ... 1892      1914      1924      1929      1941     \n",
       "5 1655      1681      ... 2156      2252      2312      2387      2459     \n",
       "6   19        20      ...   25        26        26        26        26     \n",
       "  6/10/2013 8/10/2013 10/10/2013 12/10/2013 total_sales\n",
       "1 3897      3923      3985       4048       75979      \n",
       "2 3911      4024      4125       4277       52256      \n",
       "3   11        11        11         11         223      \n",
       "4 1952      1955      1959       1963       39691      \n",
       "5 2544      2614      2693       2736       44077      \n",
       "6   27        27        27         27         457      "
      ]
     },
     "metadata": {},
     "output_type": "display_data"
    }
   ],
   "source": [
    "# sum all values on row on (total sales)\n",
    "dresssale_$total_sales = rowSums(dresssale_)\n",
    "head(dresssale_)"
   ]
  },
  {
   "cell_type": "markdown",
   "metadata": {},
   "source": [
    "#### Marged data"
   ]
  },
  {
   "cell_type": "code",
   "execution_count": 12,
   "metadata": {
    "scrolled": true
   },
   "outputs": [
    {
     "data": {
      "text/html": [
       "<table>\n",
       "<thead><tr><th scope=col>Style</th><th scope=col>Price</th><th scope=col>Rating</th><th scope=col>Size</th><th scope=col>Season</th><th scope=col>NeckLine</th><th scope=col>SleeveLength</th><th scope=col>waiseline</th><th scope=col>Material</th><th scope=col>FabricType</th><th scope=col>...</th><th scope=col>X26.9.2013</th><th scope=col>X28.9.2013</th><th scope=col>X30.9.2013</th><th scope=col>X2.10.2013</th><th scope=col>X4.10.2013</th><th scope=col>X6.10.2013</th><th scope=col>X8.10.2013</th><th scope=col>X10.10.2013</th><th scope=col>X12.10.2013</th><th scope=col>total_sales</th></tr></thead>\n",
       "<tbody>\n",
       "\t<tr><td>0    </td><td>0    </td><td>4.6  </td><td>0    </td><td>0    </td><td>0    </td><td>0    </td><td>0    </td><td>0    </td><td>0    </td><td>...  </td><td>3624 </td><td>3706 </td><td>3746 </td><td>3795 </td><td>3832 </td><td>3897 </td><td>3923 </td><td>3985 </td><td>4048 </td><td>75979</td></tr>\n",
       "\t<tr><td>1    </td><td>0    </td><td>0.0  </td><td>1    </td><td>0    </td><td>0    </td><td>1    </td><td>1    </td><td>1    </td><td>1    </td><td>...  </td><td>2942 </td><td>3258 </td><td>3354 </td><td>3475 </td><td>3654 </td><td>3911 </td><td>4024 </td><td>4125 </td><td>4277 </td><td>52256</td></tr>\n",
       "\t<tr><td>2    </td><td>1    </td><td>0.0  </td><td>1    </td><td>1    </td><td>0    </td><td>2    </td><td>1    </td><td>2    </td><td>1    </td><td>...  </td><td>  11 </td><td>  11 </td><td>  11 </td><td>  11 </td><td>  11 </td><td>  11 </td><td>  11 </td><td>  11 </td><td>  11 </td><td>  223</td></tr>\n",
       "\t<tr><td>3    </td><td>2    </td><td>4.6  </td><td>1    </td><td>2    </td><td>0    </td><td>2    </td><td>1    </td><td>3    </td><td>0    </td><td>...  </td><td>1892 </td><td>1914 </td><td>1924 </td><td>1929 </td><td>1941 </td><td>1952 </td><td>1955 </td><td>1959 </td><td>1963 </td><td>39691</td></tr>\n",
       "\t<tr><td>4    </td><td>0    </td><td>4.5  </td><td>0    </td><td>0    </td><td>0    </td><td>3    </td><td>1    </td><td>4    </td><td>0    </td><td>...  </td><td>2156 </td><td>2252 </td><td>2312 </td><td>2387 </td><td>2459 </td><td>2544 </td><td>2614 </td><td>2693 </td><td>2736 </td><td>44077</td></tr>\n",
       "\t<tr><td>5    </td><td>0    </td><td>0.0  </td><td>0    </td><td>0    </td><td>1    </td><td>0    </td><td>0    </td><td>0    </td><td>1    </td><td>...  </td><td>  25 </td><td>  26 </td><td>  26 </td><td>  26 </td><td>  26 </td><td>  27 </td><td>  27 </td><td>  27 </td><td>  27 </td><td>  457</td></tr>\n",
       "</tbody>\n",
       "</table>\n"
      ],
      "text/latex": [
       "\\begin{tabular}{r|lllllllllllllllllllllllllllllllllllll}\n",
       " Style & Price & Rating & Size & Season & NeckLine & SleeveLength & waiseline & Material & FabricType & ... & X26.9.2013 & X28.9.2013 & X30.9.2013 & X2.10.2013 & X4.10.2013 & X6.10.2013 & X8.10.2013 & X10.10.2013 & X12.10.2013 & total\\_sales\\\\\n",
       "\\hline\n",
       "\t 0     & 0     & 4.6   & 0     & 0     & 0     & 0     & 0     & 0     & 0     & ...   & 3624  & 3706  & 3746  & 3795  & 3832  & 3897  & 3923  & 3985  & 4048  & 75979\\\\\n",
       "\t 1     & 0     & 0.0   & 1     & 0     & 0     & 1     & 1     & 1     & 1     & ...   & 2942  & 3258  & 3354  & 3475  & 3654  & 3911  & 4024  & 4125  & 4277  & 52256\\\\\n",
       "\t 2     & 1     & 0.0   & 1     & 1     & 0     & 2     & 1     & 2     & 1     & ...   &   11  &   11  &   11  &   11  &   11  &   11  &   11  &   11  &   11  &   223\\\\\n",
       "\t 3     & 2     & 4.6   & 1     & 2     & 0     & 2     & 1     & 3     & 0     & ...   & 1892  & 1914  & 1924  & 1929  & 1941  & 1952  & 1955  & 1959  & 1963  & 39691\\\\\n",
       "\t 4     & 0     & 4.5   & 0     & 0     & 0     & 3     & 1     & 4     & 0     & ...   & 2156  & 2252  & 2312  & 2387  & 2459  & 2544  & 2614  & 2693  & 2736  & 44077\\\\\n",
       "\t 5     & 0     & 0.0   & 0     & 0     & 1     & 0     & 0     & 0     & 1     & ...   &   25  &   26  &   26  &   26  &   26  &   27  &   27  &   27  &   27  &   457\\\\\n",
       "\\end{tabular}\n"
      ],
      "text/markdown": [
       "\n",
       "| Style | Price | Rating | Size | Season | NeckLine | SleeveLength | waiseline | Material | FabricType | ... | X26.9.2013 | X28.9.2013 | X30.9.2013 | X2.10.2013 | X4.10.2013 | X6.10.2013 | X8.10.2013 | X10.10.2013 | X12.10.2013 | total_sales |\n",
       "|---|---|---|---|---|---|---|---|---|---|---|---|---|---|---|---|---|---|---|---|---|\n",
       "| 0     | 0     | 4.6   | 0     | 0     | 0     | 0     | 0     | 0     | 0     | ...   | 3624  | 3706  | 3746  | 3795  | 3832  | 3897  | 3923  | 3985  | 4048  | 75979 |\n",
       "| 1     | 0     | 0.0   | 1     | 0     | 0     | 1     | 1     | 1     | 1     | ...   | 2942  | 3258  | 3354  | 3475  | 3654  | 3911  | 4024  | 4125  | 4277  | 52256 |\n",
       "| 2     | 1     | 0.0   | 1     | 1     | 0     | 2     | 1     | 2     | 1     | ...   |   11  |   11  |   11  |   11  |   11  |   11  |   11  |   11  |   11  |   223 |\n",
       "| 3     | 2     | 4.6   | 1     | 2     | 0     | 2     | 1     | 3     | 0     | ...   | 1892  | 1914  | 1924  | 1929  | 1941  | 1952  | 1955  | 1959  | 1963  | 39691 |\n",
       "| 4     | 0     | 4.5   | 0     | 0     | 0     | 3     | 1     | 4     | 0     | ...   | 2156  | 2252  | 2312  | 2387  | 2459  | 2544  | 2614  | 2693  | 2736  | 44077 |\n",
       "| 5     | 0     | 0.0   | 0     | 0     | 1     | 0     | 0     | 0     | 1     | ...   |   25  |   26  |   26  |   26  |   26  |   27  |   27  |   27  |   27  |   457 |\n",
       "\n"
      ],
      "text/plain": [
       "  Style Price Rating Size Season NeckLine SleeveLength waiseline Material\n",
       "1 0     0     4.6    0    0      0        0            0         0       \n",
       "2 1     0     0.0    1    0      0        1            1         1       \n",
       "3 2     1     0.0    1    1      0        2            1         2       \n",
       "4 3     2     4.6    1    2      0        2            1         3       \n",
       "5 4     0     4.5    0    0      0        3            1         4       \n",
       "6 5     0     0.0    0    0      1        0            0         0       \n",
       "  FabricType ... X26.9.2013 X28.9.2013 X30.9.2013 X2.10.2013 X4.10.2013\n",
       "1 0          ... 3624       3706       3746       3795       3832      \n",
       "2 1          ... 2942       3258       3354       3475       3654      \n",
       "3 1          ...   11         11         11         11         11      \n",
       "4 0          ... 1892       1914       1924       1929       1941      \n",
       "5 0          ... 2156       2252       2312       2387       2459      \n",
       "6 1          ...   25         26         26         26         26      \n",
       "  X6.10.2013 X8.10.2013 X10.10.2013 X12.10.2013 total_sales\n",
       "1 3897       3923       3985        4048        75979      \n",
       "2 3911       4024       4125        4277        52256      \n",
       "3   11         11         11          11          223      \n",
       "4 1952       1955       1959        1963        39691      \n",
       "5 2544       2614       2693        2736        44077      \n",
       "6   27         27         27          27          457      "
      ]
     },
     "metadata": {},
     "output_type": "display_data"
    }
   ],
   "source": [
    "merged_data <- data.frame(attribset_ ,dresssale_)\n",
    "head(merged_data)"
   ]
  },
  {
   "cell_type": "code",
   "execution_count": 13,
   "metadata": {},
   "outputs": [
    {
     "name": "stdout",
     "output_type": "stream",
     "text": [
      "'data.frame':\t500 obs. of  37 variables:\n",
      " $ Style         : Factor w/ 12 levels \"0\",\"1\",\"2\",\"3\",..: 1 2 3 4 5 6 2 7 8 6 ...\n",
      " $ Price         : Factor w/ 5 levels \"0\",\"1\",\"2\",\"3\",..: 1 1 2 3 1 1 3 3 3 1 ...\n",
      " $ Rating        : num  4.6 0 0 4.6 4.5 0 0 0 0 0 ...\n",
      " $ Size          : Factor w/ 5 levels \"0\",\"1\",\"2\",\"3\",..: 1 2 2 2 1 1 3 4 4 4 ...\n",
      " $ Season        : Factor w/ 4 levels \"0\",\"1\",\"2\",\"3\": 1 1 2 3 1 1 1 2 3 1 ...\n",
      " $ NeckLine      : Factor w/ 16 levels \"0\",\"1\",\"2\",\"3\",..: 1 1 1 1 1 2 1 1 2 2 ...\n",
      " $ SleeveLength  : Factor w/ 13 levels \"0\",\"1\",\"2\",\"3\",..: 1 2 3 3 4 1 3 5 5 1 ...\n",
      " $ waiseline     : Factor w/ 5 levels \"0\",\"1\",\"2\",\"3\",..: 1 2 2 2 2 1 3 2 1 2 ...\n",
      " $ Material      : Factor w/ 24 levels \"0\",\"1\",\"2\",\"3\",..: 1 2 3 4 5 1 6 3 6 7 ...\n",
      " $ FabricType    : Factor w/ 18 levels \"0\",\"1\",\"2\",\"3\",..: 1 2 2 1 1 2 2 3 3 1 ...\n",
      " $ Decoration    : Factor w/ 24 levels \"0\",\"1\",\"2\",\"3\",..: 1 1 2 3 4 2 2 5 6 2 ...\n",
      " $ Pattern.Type  : Factor w/ 13 levels \"0\",\"1\",\"2\",\"3\",..: 1 1 2 2 3 2 4 5 4 5 ...\n",
      " $ Recommendation: Factor w/ 2 levels \"1\",\"0\": 1 2 2 1 2 2 2 2 1 1 ...\n",
      " $ X29.8.2013    : num  2114 151 6 1005 996 ...\n",
      " $ X31.8.2013    : num  2274 275 7 1128 1175 ...\n",
      " $ X2.9.2013     : num  2491 570 7 1326 1304 ...\n",
      " $ X4.9.2013     : num  2660 750 7 1455 1396 ...\n",
      " $ X6.9.2013     : num  2727 813 8 1507 1432 ...\n",
      " $ X8.9.2013     : num  2887 1066 8 1621 1559 ...\n",
      " $ X10.9.2013    : num  2930 1164 9 1637 1570 ...\n",
      " $ X12.9.2013    : num  3119 1558 10 1723 1638 ...\n",
      " $ X14.9.2013    : num  3204 1756 10 1746 1655 ...\n",
      " $ X16.9.2013    : num  3277 1878 10 1783 1681 ...\n",
      " $ X18.9.2013    : num  3321 1985 10 1796 1743 ...\n",
      " $ X20.9.2013    : num  3386 2106 10 1812 1824 ...\n",
      " $ X22.9.2013    : num  3479 2454 11 1845 1919 ...\n",
      " $ X24.9.2013    : num  3554 2710 11 1878 2032 ...\n",
      " $ X26.9.2013    : num  3624 2942 11 1892 2156 ...\n",
      " $ X28.9.2013    : num  3706 3258 11 1914 2252 ...\n",
      " $ X30.9.2013    : num  3746 3354 11 1924 2312 ...\n",
      " $ X2.10.2013    : num  3795 3475 11 1929 2387 ...\n",
      " $ X4.10.2013    : num  3832 3654 11 1941 2459 ...\n",
      " $ X6.10.2013    : num  3897 3911 11 1952 2544 ...\n",
      " $ X8.10.2013    : num  3923 4024 11 1955 2614 ...\n",
      " $ X10.10.2013   : num  3985 4125 11 1959 2693 ...\n",
      " $ X12.10.2013   : num  4048 4277 11 1963 2736 ...\n",
      " $ total_sales   : num  75979 52256 223 39691 44077 ...\n"
     ]
    }
   ],
   "source": [
    "str(merged_data)"
   ]
  },
  {
   "cell_type": "code",
   "execution_count": 14,
   "metadata": {},
   "outputs": [
    {
     "name": "stdout",
     "output_type": "stream",
     "text": [
      "[1] 350  37\n",
      "[1] 150  37\n"
     ]
    }
   ],
   "source": [
    "# spliting dataset \n",
    "set.seed(100)\n",
    "\n",
    "spl = sample.split(merged_data$Recommendation, SplitRatio = 0.7)\n",
    "train = subset(merged_data, spl==TRUE)\n",
    "test = subset(merged_data, spl==FALSE)\n",
    "\n",
    "print(dim(train)); print(dim(test))"
   ]
  },
  {
   "cell_type": "markdown",
   "metadata": {},
   "source": [
    "## Classification - Predict recommendation"
   ]
  },
  {
   "cell_type": "markdown",
   "metadata": {},
   "source": [
    "#### First model (Naive Bayes)"
   ]
  },
  {
   "cell_type": "code",
   "execution_count": 15,
   "metadata": {
    "scrolled": false
   },
   "outputs": [
    {
     "data": {
      "text/plain": [
       "Confusion Matrix and Statistics\n",
       "\n",
       "          Reference\n",
       "Prediction   1   0\n",
       "         1 106  41\n",
       "         0  67 136\n",
       "                                          \n",
       "               Accuracy : 0.6914          \n",
       "                 95% CI : (0.6401, 0.7394)\n",
       "    No Information Rate : 0.5057          \n",
       "    P-Value [Acc > NIR] : 1.409e-12       \n",
       "                                          \n",
       "                  Kappa : 0.3817          \n",
       "                                          \n",
       " Mcnemar's Test P-Value : 0.01614         \n",
       "                                          \n",
       "            Sensitivity : 0.6127          \n",
       "            Specificity : 0.7684          \n",
       "         Pos Pred Value : 0.7211          \n",
       "         Neg Pred Value : 0.6700          \n",
       "             Prevalence : 0.4943          \n",
       "         Detection Rate : 0.3029          \n",
       "   Detection Prevalence : 0.4200          \n",
       "      Balanced Accuracy : 0.6905          \n",
       "                                          \n",
       "       'Positive' Class : 1               \n",
       "                                          "
      ]
     },
     "metadata": {},
     "output_type": "display_data"
    },
    {
     "name": "stdout",
     "output_type": "stream",
     "text": [
      "[1] \"---------------\"\n"
     ]
    },
    {
     "data": {
      "text/plain": [
       "             \n",
       "naive_predict  1  0\n",
       "            1 33 37\n",
       "            0 30 50"
      ]
     },
     "metadata": {},
     "output_type": "display_data"
    }
   ],
   "source": [
    "# naive bayes model\n",
    "naive_model = naiveBayes(Recommendation ~.,data = train) # build model\n",
    "confusionMatrix(train$Recommendation,predict(naive_model,train),positive = '1') # create confusion Matrix\n",
    "print('---------------')\n",
    "naive_predict = predict(naive_model,test) # predict test set\n",
    "table(naive_predict,test$Recommendation) # create table "
   ]
  },
  {
   "cell_type": "markdown",
   "metadata": {},
   "source": [
    "#### Second model (Support Vector Machine) "
   ]
  },
  {
   "cell_type": "code",
   "execution_count": 16,
   "metadata": {},
   "outputs": [
    {
     "data": {
      "text/plain": [
       "Confusion Matrix and Statistics\n",
       "\n",
       "          Reference\n",
       "Prediction   1   0\n",
       "         1   6 141\n",
       "         0   0 203\n",
       "                                          \n",
       "               Accuracy : 0.5971          \n",
       "                 95% CI : (0.5437, 0.6489)\n",
       "    No Information Rate : 0.9829          \n",
       "    P-Value [Acc > NIR] : 1               \n",
       "                                          \n",
       "                  Kappa : 0.047           \n",
       "                                          \n",
       " Mcnemar's Test P-Value : <2e-16          \n",
       "                                          \n",
       "            Sensitivity : 1.00000         \n",
       "            Specificity : 0.59012         \n",
       "         Pos Pred Value : 0.04082         \n",
       "         Neg Pred Value : 1.00000         \n",
       "             Prevalence : 0.01714         \n",
       "         Detection Rate : 0.01714         \n",
       "   Detection Prevalence : 0.42000         \n",
       "      Balanced Accuracy : 0.79506         \n",
       "                                          \n",
       "       'Positive' Class : 1               \n",
       "                                          "
      ]
     },
     "metadata": {},
     "output_type": "display_data"
    },
    {
     "name": "stdout",
     "output_type": "stream",
     "text": [
      "[1] \"---------------\"\n"
     ]
    },
    {
     "data": {
      "text/plain": [
       "           \n",
       "svm_predict  1  0\n",
       "          1  0  2\n",
       "          0 63 85"
      ]
     },
     "metadata": {},
     "output_type": "display_data"
    }
   ],
   "source": [
    "# Support vector machine\n",
    "svm_model = svm(Recommendation ~.,train) # build model\n",
    "confusionMatrix(train$Recommendation,predict(svm_model),positive = '1')# create confusion Matrix\n",
    "print('---------------')\n",
    "svm_predict = predict(svm_model,test) # predict test set\n",
    "table(svm_predict,test$Recommendation) # create table"
   ]
  },
  {
   "cell_type": "markdown",
   "metadata": {},
   "source": [
    "#### Third model (Random Forest)"
   ]
  },
  {
   "cell_type": "code",
   "execution_count": 17,
   "metadata": {},
   "outputs": [
    {
     "data": {
      "text/plain": [
       "Confusion Matrix and Statistics\n",
       "\n",
       "          Reference\n",
       "Prediction   1   0\n",
       "         1 147   0\n",
       "         0   0 203\n",
       "                                     \n",
       "               Accuracy : 1          \n",
       "                 95% CI : (0.9895, 1)\n",
       "    No Information Rate : 0.58       \n",
       "    P-Value [Acc > NIR] : < 2.2e-16  \n",
       "                                     \n",
       "                  Kappa : 1          \n",
       "                                     \n",
       " Mcnemar's Test P-Value : NA         \n",
       "                                     \n",
       "            Sensitivity : 1.00       \n",
       "            Specificity : 1.00       \n",
       "         Pos Pred Value : 1.00       \n",
       "         Neg Pred Value : 1.00       \n",
       "             Prevalence : 0.42       \n",
       "         Detection Rate : 0.42       \n",
       "   Detection Prevalence : 0.42       \n",
       "      Balanced Accuracy : 1.00       \n",
       "                                     \n",
       "       'Positive' Class : 1          \n",
       "                                     "
      ]
     },
     "metadata": {},
     "output_type": "display_data"
    },
    {
     "name": "stdout",
     "output_type": "stream",
     "text": [
      "[1] \"---------------\"\n"
     ]
    },
    {
     "data": {
      "text/plain": [
       "                    \n",
       "randomForest_predict  1  0\n",
       "                   1 63  0\n",
       "                   0  0 87"
      ]
     },
     "metadata": {},
     "output_type": "display_data"
    }
   ],
   "source": [
    "# Random Forest\n",
    "randomForest_model = randomForest(x = train, y = train$Recommendation,ntree =800)# build model\n",
    "confusionMatrix(train$Recommendation,predict(randomForest_model),positive = '1') # create confusion Matrix\n",
    "print('---------------')\n",
    "randomForest_predict = predict(randomForest_model,test) # predict test set\n",
    "table(randomForest_predict,test$Recommendation )# create table"
   ]
  },
  {
   "cell_type": "markdown",
   "metadata": {},
   "source": [
    "## Regresstion model  "
   ]
  },
  {
   "cell_type": "markdown",
   "metadata": {},
   "source": [
    "#### Regression (total sales and (Style+Season+Material+Price))"
   ]
  },
  {
   "cell_type": "code",
   "execution_count": 18,
   "metadata": {
    "scrolled": false
   },
   "outputs": [
    {
     "data": {
      "text/plain": [
       "\n",
       "Call:\n",
       "lm(formula = total_sales ~ Style + Season + Material + Price, \n",
       "    data = train)\n",
       "\n",
       "Residuals:\n",
       "   Min     1Q Median     3Q    Max \n",
       "-19936  -6113  -2230   1381 108508 \n",
       "\n",
       "Coefficients:\n",
       "            Estimate Std. Error t value Pr(>|t|)    \n",
       "(Intercept)  11521.7     2460.7   4.682 4.24e-06 ***\n",
       "Style1       -4739.3     2018.1  -2.348   0.0195 *  \n",
       "Style2        2786.7     3731.1   0.747   0.4557    \n",
       "Style3       -2293.6     3957.3  -0.580   0.5626    \n",
       "Style4       -4514.3     3037.8  -1.486   0.1383    \n",
       "Style5       -7057.2     3738.5  -1.888   0.0600 .  \n",
       "Style6       -6905.0     6052.5  -1.141   0.2548    \n",
       "Style7      -11965.4    12808.3  -0.934   0.3509    \n",
       "Style8       -4017.0     3208.8  -1.252   0.2116    \n",
       "Style9       -3254.6     4066.9  -0.800   0.4242    \n",
       "Style11      -9220.8    12763.8  -0.722   0.4706    \n",
       "Season1       -761.5     2339.6  -0.325   0.7450    \n",
       "Season2       2694.3     1915.0   1.407   0.1604    \n",
       "Season3       -527.7     1944.7  -0.271   0.7863    \n",
       "Material1    12382.7     7516.0   1.648   0.1005    \n",
       "Material2      790.2     2243.6   0.352   0.7249    \n",
       "Material3    -2454.3     3316.7  -0.740   0.4599    \n",
       "Material4     3595.3     3141.2   1.145   0.2533    \n",
       "Material5    -2111.8     1884.6  -1.121   0.2633    \n",
       "Material6    -3568.7     5518.6  -0.647   0.5183    \n",
       "Material7    -2426.9     9130.3  -0.266   0.7906    \n",
       "Material8    -2429.2     9068.5  -0.268   0.7890    \n",
       "Material9     2010.3     7588.1   0.265   0.7912    \n",
       "Material10   -6025.8     5056.8  -1.192   0.2343    \n",
       "Material11    -637.5     7475.0  -0.085   0.9321    \n",
       "Material12   -1602.8     4285.8  -0.374   0.7087    \n",
       "Material13   -2853.4     7500.8  -0.380   0.7039    \n",
       "Material14   -7213.0    12932.0  -0.558   0.5774    \n",
       "Material15   -2242.1    12843.7  -0.175   0.8615    \n",
       "Material16   -6416.6    12731.2  -0.504   0.6146    \n",
       "Material17   -5257.7     9108.9  -0.577   0.5642    \n",
       "Material19   -1842.8    12767.8  -0.144   0.8853    \n",
       "Material20   -7843.1    12790.6  -0.613   0.5402    \n",
       "Material23   -3215.7     9269.8  -0.347   0.7289    \n",
       "Price1       -2030.6     3912.1  -0.519   0.6041    \n",
       "Price2         355.2     1627.8   0.218   0.8274    \n",
       "Price3       -4172.0     3571.0  -1.168   0.2436    \n",
       "Price4       -8335.1     4055.2  -2.055   0.0407 *  \n",
       "---\n",
       "Signif. codes:  0 '***' 0.001 '**' 0.01 '*' 0.05 '.' 0.1 ' ' 1\n",
       "\n",
       "Residual standard error: 12550 on 312 degrees of freedom\n",
       "Multiple R-squared:  0.09296,\tAdjusted R-squared:  -0.01461 \n",
       "F-statistic: 0.8642 on 37 and 312 DF,  p-value: 0.6971\n"
      ]
     },
     "metadata": {},
     "output_type": "display_data"
    },
    {
     "name": "stderr",
     "output_type": "stream",
     "text": [
      "Warning message:\n",
      "\"not plotting observations with leverage one:\n",
      "  8, 68, 153, 162, 202, 257, 271\""
     ]
    },
    {
     "data": {
      "image/png": "[encoded data removed]",
      "text/plain": [
       "Plot with title \"\""
      ]
     },
     "metadata": {},
     "output_type": "display_data"
    },
    {
     "name": "stderr",
     "output_type": "stream",
     "text": [
      "Warning message:\n",
      "\"not plotting observations with leverage one:\n",
      "  8, 68, 153, 162, 202, 257, 271\""
     ]
    },
    {
     "data": {
      "image/png": "[encoded data removed]",
      "text/plain": [
       "Plot with title \"\""
      ]
     },
     "metadata": {},
     "output_type": "display_data"
    },
    {
     "data": {
      "image/png": "[encoded data removed]",
      "text/plain": [
       "Plot with title \"\""
      ]
     },
     "metadata": {},
     "output_type": "display_data"
    },
    {
     "name": "stderr",
     "output_type": "stream",
     "text": [
      "Warning message in abline(regressor_Sales):\n",
      "\"only using the first two of 38 regression coefficients\""
     ]
    },
    {
     "data": {
      "image/png": "[encoded data removed]",
      "text/plain": [
       "Plot with title \"\""
      ]
     },
     "metadata": {},
     "output_type": "display_data"
    }
   ],
   "source": [
    "# regression (total sales and (Style+Season+Material+Price))\n",
    "regressor_Sales = lm(formula = total_sales ~ Style+Season+Material+Price, data = train) # build model\n",
    "summary(regressor_Sales) # print model summary\n",
    "plot(regressor_Sales, pch = 16, col = \"blue\") # Plot the results\n",
    "abline(regressor_Sales) # Add regression line"
   ]
  },
  {
   "cell_type": "markdown",
   "metadata": {},
   "source": [
    "#### Regression (total sales and Rating)"
   ]
  },
  {
   "cell_type": "code",
   "execution_count": 19,
   "metadata": {
    "scrolled": false
   },
   "outputs": [
    {
     "data": {
      "text/plain": [
       "\n",
       "Call:\n",
       "lm(formula = total_sales ~ Rating, data = train)\n",
       "\n",
       "Residuals:\n",
       "   Min     1Q Median     3Q    Max \n",
       " -9076  -6020  -2686    812 114971 \n",
       "\n",
       "Coefficients:\n",
       "            Estimate Std. Error t value Pr(>|t|)    \n",
       "(Intercept)   2742.8     1305.0   2.102   0.0363 *  \n",
       "Rating        1282.6      323.7   3.962 9.02e-05 ***\n",
       "---\n",
       "Signif. codes:  0 '***' 0.001 '**' 0.01 '*' 0.05 '.' 0.1 ' ' 1\n",
       "\n",
       "Residual standard error: 12210 on 348 degrees of freedom\n",
       "Multiple R-squared:  0.04316,\tAdjusted R-squared:  0.04041 \n",
       "F-statistic:  15.7 on 1 and 348 DF,  p-value: 9.022e-05\n"
      ]
     },
     "metadata": {},
     "output_type": "display_data"
    },
    {
     "data": {
      "image/png": "[encoded data removed]",
      "text/plain": [
       "Plot with title \"\""
      ]
     },
     "metadata": {},
     "output_type": "display_data"
    },
    {
     "data": {
      "image/png": "[encoded data removed]",
      "text/plain": [
       "Plot with title \"\""
      ]
     },
     "metadata": {},
     "output_type": "display_data"
    },
    {
     "data": {
      "image/png": "[encoded data removed]",
      "text/plain": [
       "Plot with title \"\""
      ]
     },
     "metadata": {},
     "output_type": "display_data"
    },
    {
     "data": {
      "image/png": "[encoded data removed]",
      "text/plain": [
       "Plot with title \"\""
      ]
     },
     "metadata": {},
     "output_type": "display_data"
    }
   ],
   "source": [
    "# regression (total sales and Rating)\n",
    "regressor_Rating = lm(formula = total_sales ~ Rating, data = train) # build model\n",
    "summary(regressor_Rating) # print model summary\n",
    "plot(regressor_Rating, pch = 16, col = \"blue\") # Plot the results\n",
    "abline(regressor_Rating) # Add regression line"
   ]
  },
  {
   "cell_type": "code",
   "execution_count": 20,
   "metadata": {},
   "outputs": [
    {
     "name": "stdout",
     "output_type": "stream",
     "text": [
      " MAE: 7784.569 \n",
      " MSE: 274959077 \n",
      " RMSE: 16581.89 \n",
      " R-squared: 0.04042806"
     ]
    }
   ],
   "source": [
    "# evaluation\n",
    "original = test$total_sales\n",
    "pred = predict(regressor_Rating,test)\n",
    "predicted = pred\n",
    "d = original-predicted\n",
    "\n",
    "mse = mean((d)^2) # MSE\n",
    "mae = mean(abs(d)) # MAE\n",
    "rmse = sqrt(mse) # RMSE\n",
    "R2 = 1-(sum((d)^2)/sum((original-mean(original))^2)) # R^2\n",
    "\n",
    "cat(\" MAE:\", mae, \"\\n\", \"MSE:\", mse, \"\\n\", \"RMSE:\", rmse, \"\\n\", \"R-squared:\", R2)"
   ]
  },
  {
   "cell_type": "markdown",
   "metadata": {},
   "source": [
    "# Thank you "
   ]
  }
 ],
 "metadata": {
  "kernelspec": {
   "display_name": "R",
   "language": "R",
   "name": "ir"
  },
  "language_info": {
   "codemirror_mode": "r",
   "file_extension": ".r",
   "mimetype": "text/x-r-source",
   "name": "R",
   "pygments_lexer": "r",
   "version": "3.6.1"
  }
 },
 "nbformat": 4,
 "nbformat_minor": 4
}
